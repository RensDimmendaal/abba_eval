{
 "cells": [
  {
   "cell_type": "code",
   "execution_count": null,
   "metadata": {},
   "outputs": [],
   "source": [
    "%load_ext autoreload\n",
    "%autoreload 2"
   ]
  },
  {
   "cell_type": "code",
   "execution_count": null,
   "metadata": {},
   "outputs": [],
   "source": [
    "import pandas as pd\n",
    "from plotnine import *"
   ]
  },
  {
   "cell_type": "code",
   "execution_count": null,
   "metadata": {},
   "outputs": [],
   "source": [
    "results_annotated = pd.read_json(\"../data/results_annotated.jsonl\", lines=True)\n",
    "\n",
    "results = (\n",
    "    pd\n",
    "    .read_json(\"../data/results.jsonl\", lines=True)\n",
    "    .merge(results_annotated[['poem','label']], how=\"left\", on=\"poem\")\n",
    ")\n",
    "\n",
    "results['label'].isna().sum(), results_annotated['label'].isna().sum()"
   ]
  },
  {
   "cell_type": "code",
   "execution_count": null,
   "metadata": {},
   "outputs": [],
   "source": [
    "from abba_eval import pigeonxt\n",
    "from IPython.display import display\n",
    "from ipywidgets import HTML\n",
    "\n",
    "annotations = pigeonxt.annotate(\n",
    "    results.loc[results['label'].isna(),['poem']],\n",
    "    example_column=\"poem\",\n",
    "    options=['Correct', 'Incorrect', 'Doubtful'],\n",
    "    display_fn=lambda html: display(HTML(html.value.replace(\"\\n\", \"<br>\")))\n",
    ")"
   ]
  },
  {
   "cell_type": "code",
   "execution_count": null,
   "metadata": {},
   "outputs": [],
   "source": [
    "results_annotated = (\n",
    "    results\n",
    "    .merge(annotations[['poem','label']], how=\"left\", on=\"poem\", suffixes=('_x', '_y'))\n",
    "    .assign(label=lambda x: x['label_y'].combine_first(x['label_x']))\n",
    "    .drop(columns=['label_x', 'label_y'])\n",
    ")\n",
    "\n",
    "results_annotated.to_json(\"../data/results_annotated.jsonl\", lines=True, orient='records')"
   ]
  }
 ],
 "metadata": {
  "kernelspec": {
   "display_name": "Python 3 (ipykernel)",
   "language": "python",
   "name": "python3"
  },
  "language_info": {
   "codemirror_mode": {
    "name": "ipython",
    "version": 3
   },
   "file_extension": ".py",
   "mimetype": "text/x-python",
   "name": "python",
   "nbconvert_exporter": "python",
   "pygments_lexer": "ipython3",
   "version": "3.12.1"
  }
 },
 "nbformat": 4,
 "nbformat_minor": 4
}

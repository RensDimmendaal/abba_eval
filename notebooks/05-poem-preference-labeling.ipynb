{
 "cells": [
  {
   "cell_type": "code",
   "execution_count": null,
   "metadata": {},
   "outputs": [],
   "source": [
    "%load_ext autoreload\n",
    "%autoreload 2"
   ]
  },
  {
   "cell_type": "code",
   "execution_count": null,
   "metadata": {},
   "outputs": [],
   "source": [
    "import pandas as pd\n",
    "from plotnine import *"
   ]
  },
  {
   "cell_type": "code",
   "execution_count": null,
   "metadata": {},
   "outputs": [],
   "source": [
    "results_annotated = pd.read_json(\"../data/results_annotated.jsonl\", lines=True)"
   ]
  },
  {
   "cell_type": "code",
   "execution_count": null,
   "metadata": {},
   "outputs": [],
   "source": [
    "results_annotated.head(3).T"
   ]
  },
  {
   "cell_type": "code",
   "execution_count": null,
   "metadata": {},
   "outputs": [],
   "source": [
    "df_pairs = results_annotated.query(\"label == 'Correct'\").pivot(\n",
    "    index=[\"model\",\"topic\"],\n",
    "    columns=\"format\",\n",
    "    values=\"poem\"\n",
    ").reset_index().dropna(axis=0)"
   ]
  },
  {
   "cell_type": "code",
   "execution_count": null,
   "metadata": {},
   "outputs": [],
   "source": [
    "import pandas as pd\n",
    "import numpy as np\n",
    "\n",
    "def shuffle_columns(df, col1, col2):\n",
    "    # Create a copy of the DataFrame\n",
    "    df_new = df.copy()\n",
    "\n",
    "    # Rename the columns\n",
    "    df_new[col1] = df_new.rename(columns={col1: 'Column1', col2: 'Column2'}, inplace=True)\n",
    "\n",
    "    # Generate a random shuffling pattern\n",
    "    choices = np.random.choice([0, 1], size=(len(df_new),))\n",
    "\n",
    "    # Apply the shuffling pattern\n",
    "    df_new.loc[choices == 0, 'Column1'] = df[col1]\n",
    "    df_new.loc[choices == 1, 'Column1'] = df[col2]\n",
    "    df_new.loc[choices == 0, 'Column2'] = df[col2]\n",
    "    df_new.loc[choices == 1, 'Column2'] = df[col1]\n",
    "\n",
    "    return df_new"
   ]
  },
  {
   "cell_type": "code",
   "execution_count": null,
   "metadata": {},
   "outputs": [],
   "source": [
    "df_pairs"
   ]
  },
  {
   "cell_type": "code",
   "execution_count": null,
   "metadata": {},
   "outputs": [],
   "source": [
    "shuffle_columns(df_pairs, \"direct_ask\", \"with_instructor\")"
   ]
  },
  {
   "cell_type": "code",
   "execution_count": null,
   "metadata": {},
   "outputs": [],
   "source": [
    "row = df_pairs.sample(1).iloc[0]\n",
    "\n",
    "row[['direct_ask','with_instructor']].to_list() if random.choice([True, False]) else row[['with_instructor','direct_ask']].values"
   ]
  },
  {
   "cell_type": "code",
   "execution_count": null,
   "metadata": {},
   "outputs": [],
   "source": [
    "choices = np.random.choice([0, 1], size=(len(df_pairs),))\n",
    "\n",
    "df_pairs.loc[choices == 0, 'poem1'] = df_pairs['direct_ask']\n",
    "df_pairs.loc[choices == 1, 'poem1'] = df_pairs['with_instructor']\n",
    "df_pairs.loc[choices == 0, 'poem2'] = df_pairs['with_instructor']\n",
    "df_pairs.loc[choices == 1, 'poem2'] = df_pairs['direct_ask']\n",
    "\n",
    "df_pairs['combined_poem'] = df_pairs.apply(lambda row: f\"{row['poem1']}'\\n---\\n'{row['poem2']}\", axis=1)\n"
   ]
  },
  {
   "cell_type": "code",
   "execution_count": null,
   "metadata": {},
   "outputs": [],
   "source": [
    "from abba_eval import pigeonxt\n",
    "from IPython.display import display\n",
    "from ipywidgets import HTML\n",
    "\n",
    "annotations = pigeonxt.annotate(\n",
    "    df_pairs,\n",
    "    example_column=\"combined_poem\",\n",
    "    options=['Poem1', 'Poem2', 'No Preference'],\n",
    "    display_fn=lambda html: display(HTML(html.value.replace(\"\\n\", \"<br>\")))\n",
    ")"
   ]
  },
  {
   "cell_type": "code",
   "execution_count": null,
   "metadata": {},
   "outputs": [],
   "source": [
    "(\n",
    "    ((annotations['label'] == 'Poem1') & (annotations['direct_ask'] == annotations['poem1']))\n",
    "|\n",
    "    ((annotations['label'] == 'Poem2') & (annotations['direct_ask'] == annotations['poem2']))\n",
    ").sum()"
   ]
  },
  {
   "cell_type": "code",
   "execution_count": null,
   "metadata": {},
   "outputs": [],
   "source": [
    "(\n",
    "    ((annotations['label'] == 'Poem1') & (annotations['with_instructor'] == annotations['poem1']))\n",
    "|\n",
    "    ((annotations['label'] == 'Poem2') & (annotations['with_instructor'] == annotations['poem2']))\n",
    ").sum()"
   ]
  },
  {
   "cell_type": "code",
   "execution_count": null,
   "metadata": {},
   "outputs": [],
   "source": [
    "o = annotations.assign(direct_preferred = (\n",
    "    ((annotations['label'] == 'Poem1') & (annotations['direct_ask'] == annotations['poem1']))\n",
    "|\n",
    "    ((annotations['label'] == 'Poem2') & (annotations['direct_ask'] == annotations['poem2']))\n",
    ")).assign(\n",
    "    with_instructor_preferred = (\n",
    "    ((annotations['label'] == 'Poem1') & (annotations['with_instructor'] == annotations['poem1']))\n",
    "|\n",
    "    ((annotations['label'] == 'Poem2') & (annotations['with_instructor'] == annotations['poem2']))\n",
    ")).assign(no_preference = lambda d: ~(d['direct_preferred'] | d['with_instructor_preferred']))"
   ]
  },
  {
   "cell_type": "code",
   "execution_count": null,
   "metadata": {},
   "outputs": [],
   "source": [
    "o.groupby('model')[['direct_preferred','with_instructor_preferred','no_preference']].sum()\n"
   ]
  },
  {
   "cell_type": "code",
   "execution_count": null,
   "metadata": {},
   "outputs": [],
   "source": [
    "results_annotated = (\n",
    "    results\n",
    "    .merge(annotations[['poem','label']], how=\"left\", on=\"poem\", suffixes=('_x', '_y'))\n",
    "    .assign(label=lambda x: x['label_y'].combine_first(x['label_x']))\n",
    "    .drop(columns=['label_x', 'label_y'])\n",
    ")\n",
    "\n",
    "results_annotated.to_json(\"../data/results_annotated.jsonl\", lines=True, orient='records')"
   ]
  },
  {
   "cell_type": "code",
   "execution_count": null,
   "metadata": {},
   "outputs": [],
   "source": []
  }
 ],
 "metadata": {
  "kernelspec": {
   "display_name": "Python 3 (ipykernel)",
   "language": "python",
   "name": "python3"
  },
  "language_info": {
   "codemirror_mode": {
    "name": "ipython",
    "version": 3
   },
   "file_extension": ".py",
   "mimetype": "text/x-python",
   "name": "python",
   "nbconvert_exporter": "python",
   "pygments_lexer": "ipython3",
   "version": "3.12.1"
  }
 },
 "nbformat": 4,
 "nbformat_minor": 4
}

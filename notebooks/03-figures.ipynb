{
 "cells": [
  {
   "cell_type": "code",
   "execution_count": null,
   "metadata": {},
   "outputs": [],
   "source": [
    "%load_ext autoreload\n",
    "%autoreload 2"
   ]
  },
  {
   "cell_type": "code",
   "execution_count": null,
   "metadata": {},
   "outputs": [],
   "source": [
    "import pandas as pd\n",
    "from plotnine import *"
   ]
  },
  {
   "cell_type": "code",
   "execution_count": null,
   "metadata": {},
   "outputs": [],
   "source": [
    "results_annotated = (\n",
    "    pd\n",
    "    .read_json(\"../data/results_annotated.jsonl\", lines=True, orient='records')\n",
    "    .assign(model = lambda d: d['model'].str.replace(\"bedrock/\",\"\"))\n",
    ")"
   ]
  },
  {
   "cell_type": "code",
   "execution_count": null,
   "metadata": {},
   "outputs": [],
   "source": [
    "tmp = (\n",
    "    results_annotated\n",
    "    .assign(score = lambda d: d['label'] == 'Correct')\n",
    "    .pivot_table(index=\"model\",columns=\"format\",values=\"score\",aggfunc=\"count\")\n",
    "    .fillna(0).astype(int)\n",
    ")\n",
    "\n",
    "tmp"
   ]
  },
  {
   "cell_type": "code",
   "execution_count": null,
   "metadata": {},
   "outputs": [],
   "source": [
    "tmp = (\n",
    "    results_annotated\n",
    "    .assign(score = lambda d: d['label'] == 'Correct')\n",
    "    .pivot_table(index=\"model\",columns=\"format\",values=\"score\",aggfunc=\"mean\")\n",
    "    .fillna(0).astype(float)\n",
    ")\n",
    "\n",
    "tmp"
   ]
  },
  {
   "cell_type": "code",
   "execution_count": null,
   "metadata": {},
   "outputs": [],
   "source": [
    "model_sort = [\n",
    "    \"gpt-3.5-turbo\",\n",
    "    \"anthropic.claude-3-haiku-20240307-v1:0\",\n",
    "    \"anthropic.claude-3-sonnet-20240229-v1:0\",\n",
    "    \"gemini-1.5-pro-preview-0409\",\n",
    "    \"gpt-4-turbo-2024-04-09\",\n",
    "    \"anthropic.claude-3-opus-20240229-v1:0\",\n",
    "    \"gpt-4o-2024-05-13\"\n",
    "][::-1]\n",
    "\n",
    "method_sort = [\"direct_ask\",\"structured_output\"]"
   ]
  },
  {
   "cell_type": "code",
   "execution_count": null,
   "metadata": {},
   "outputs": [],
   "source": [
    "summary_df = (\n",
    "    results_annotated\n",
    "    .assign(method = lambda d: d['format'].str.replace(\"with_instructor\",\"structured_output\"))\n",
    "    .assign(score = lambda d: d['label'] == 'Correct')\n",
    "    .groupby([\"model\",\"method\"],as_index=False)\n",
    "    [\"score\"]\n",
    "    .mean()\n",
    "    .sort_values(by='score',ascending=False)\n",
    "    .assign(\n",
    "        model = lambda d: pd.Categorical(d['model'], categories=model_sort),\n",
    "        method = lambda d: pd.Categorical(d['method'], categories=method_sort),\n",
    "        )\n",
    ")\n"
   ]
  },
  {
   "cell_type": "code",
   "execution_count": null,
   "metadata": {},
   "outputs": [],
   "source": []
  },
  {
   "cell_type": "code",
   "execution_count": null,
   "metadata": {},
   "outputs": [],
   "source": [
    "p = (\n",
    "    ggplot(summary_df)\n",
    "    + theme_538()\n",
    "    + aes(x=\"factor(method)\", y=\"score\", fill=\"model\")\n",
    "    + geom_bar(stat=\"identity\", position=\"dodge\",color=\"black\")\n",
    "    + scale_fill_brewer(type='qual', palette='Set3')\n",
    "    + theme(figure_size=(4.5 * 1.618, 4.5))\n",
    "    + labs(\n",
    "        x=\"Method\",\n",
    "        y=\"Correct %\",\n",
    "        fill=\"Model\",\n",
    "        title=\"ABBA Eval: How good are these LLMs at rhyming in ABBA scheme?\",\n",
    "        subtitle=\"A small sample evaluation: 45 per (model, method) combination\",\n",
    "    )\n",
    ")\n",
    "p"
   ]
  },
  {
   "cell_type": "code",
   "execution_count": null,
   "metadata": {},
   "outputs": [],
   "source": [
    "p.save(\"../output/results.png\", dpi=300)"
   ]
  },
  {
   "cell_type": "code",
   "execution_count": null,
   "metadata": {},
   "outputs": [],
   "source": []
  }
 ],
 "metadata": {
  "kernelspec": {
   "display_name": "Python 3 (ipykernel)",
   "language": "python",
   "name": "python3"
  },
  "language_info": {
   "codemirror_mode": {
    "name": "ipython",
    "version": 3
   },
   "file_extension": ".py",
   "mimetype": "text/x-python",
   "name": "python",
   "nbconvert_exporter": "python",
   "pygments_lexer": "ipython3",
   "version": "3.12.1"
  }
 },
 "nbformat": 4,
 "nbformat_minor": 4
}
